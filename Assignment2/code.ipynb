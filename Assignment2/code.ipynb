#for setting up julia environment and getting GPU support

!curl -sSL "https://julialang-s3.julialang.org/bin/linux/x64/1.2/julia-1.2.0-linux-x86_64.tar.gz" -o julia.tar.gz
!tar -xzf julia.tar.gz -C /usr --strip-components 1
!rm -rf julia.tar.gz*
!julia -e 'using Pkg; pkg"add IJulia; precompile"'

#importing libraries
import Pkg

Pkg.add("CSV")
Pkg.add("Plots")
Pkg.add("DataFrames")
Pkg.add("StatsPlots")
Pkg.add("PyPlot")
Pkg.add("Statistics")

#installing packages
using CSV
using Plots
using DataFrames
using Statistics
using Plots, StatsPlots
pyplot()

#to be run in python environment

import numpy as np
import pandas as pd

def shuffler(filename):
  df = pd.read_csv(filename, header=0)
  # return the pandas dataframe
  return df.reindex(np.random.permutation(df.index))


def main(outputfilename):
  shuffler('FlightDelays.csv').to_csv(outputfilename, sep=',')

if __name__ == '__main__': 
  main('final-output.csv')


# after shuffling dataset has one more column, which is to be ignored 
dataset = CSV.read("final-output.csv");

#plotting boxplots
#this for plotting departure time

dep_time=dataset[:,5]
Plots.boxplot(dep_time, ylabel="Departure_time")
Plots.boxplot(dataset[:,10], ylabel="Day of week")

#plotting histograms
#same code for other histograms so i did not include it here as
# i just tweaked the column values in the code

y_status=dataset[:,14];
weather=[]
weather_ontime=[]
weather_delayed=[]

for i in 1:length(y_status)
if(y_status[i]=="ontime")
append!(weather_ontime,dataset[i,11])
end
if(y_status[i]=="delayed")
append!(weather_delayed,dataset[i,11])
end
end

Plots.histogram(weather_delayed,
bins=1,xlabel="",labels="Frequency")

dataset_delayed=[]
for i in 1:2201
if (dataset[i,14]=="delayed") & (dataset[i,2]>500)
append!(dataset_delayed,dataset[i,2])
end
end

Plots.histogram(dataset_delayed,
bins=50,xlabel="week_day_delayed",labels="Frequency")


#Plotting piechart for carriers

#Pkg.add("PyCall")
#using PyCall
#using PyPlot

size_CO=0
size_DH=0
size_DL=0
size_MQ=0
size_OH=0
size_RU=0
size_UA=0
size_US=0

for i in 1:length(y_status)
  if((y_status[i]=="delayed") & (dataset[i,2]=="CO"))
    size_CO+=1
  end
  if((y_status[i]=="delayed") & (dataset[i,2]=="DH"))
    size_DH+=1
  end
  if((y_status[i]=="delayed") & (dataset[i,2]=="DL"))
    size_DL+=1
  end
  if((y_status[i]=="delayed") & (dataset[i,2]=="MQ"))
    size_MQ+=1
  end
  if((y_status[i]=="delayed") & (dataset[i,2]=="OH"))
    size_OH+=1
  end
  if((y_status[i]=="delayed") & (dataset[i,2]=="RU"))
    size_RU+=1
  end
  if((y_status[i]=="delayed") & (dataset[i,2]=="UA"))
    size_UA+=1
  end
  if((y_status[i]=="delayed") & (dataset[i,2]=="US"))
    size_US+=1
  end
end


labels = ("CO", "DH", "DL", "MQ" , "OH" , "RU" , "UA" , "US")
sizes = [size_CO, size_DH, size_DL, size_MQ, size_OH, 
size_RU, size_UA, size_US ]
explode = (0, 0, 0, 0, 0, 0, 0, 0)  # only "explode" the 2nd slice (i.e. "Hogs")

fig1, ax1 = plt.subplots()
ax1.pie(sizes, explode=explode, labels=labels, autopct="%1.1f%%",
        shadow=true, startangle=90)
ax1.axis("equal")  # Equal aspect ratio ensures that pie is drawn as a circle.

plt.show()

#Plotting piechart for carriers

#Pkg.add("PyCall")
#using PyCall
#using PyPlot

size_CO=0
size_DH=0
size_DL=0
size_MQ=0
size_OH=0
size_RU=0
size_UA=0
size_US=0

for i in 1:length(y_status)
  if((dataset[i,2]=="CO"))
    size_CO+=1
  end
  if((dataset[i,2]=="DH"))
    size_DH+=1
  end
  if((dataset[i,2]=="DL"))
    size_DL+=1
  end
  if((dataset[i,2]=="MQ"))
    size_MQ+=1
  end
  if((dataset[i,2]=="OH"))
    size_OH+=1
  end
  if((dataset[i,2]=="RU"))
    size_RU+=1
  end
  if((dataset[i,2]=="UA"))
    size_UA+=1
  end
  if((dataset[i,2]=="US"))
    size_US+=1
  end
end


labels = ("CO", "DH", "DL", "MQ" , "OH" , "RU" , "UA" , "US")
sizes = [size_CO, size_DH, size_DL, size_MQ, size_OH, 
size_RU, size_UA, size_US ]
explode = (0, 0, 0, 0, 0, 0, 0, 0)

fig1, ax1 = plt.subplots()
ax1.pie(sizes, explode=explode, labels=labels, autopct="%1.1f%%",
        shadow=true, startangle=90)
ax1.axis("equal")  # Equal aspect ratio ensures that pie is drawn as a circle.

plt.show()

#Plotting piechart for carriers/destination

Pkg.add("PyCall")
using PyCall
using PyPlot

size_DCA=0
size_IAD=0
size_BWI=0


for i in 1:length(y_status)
  if((dataset[i,4]=="JFK") & (y_status[i]=="delayed"))
    size_DCA+=1
  end
  if((dataset[i,4]=="LGA") & (y_status[i]=="delayed"))
    size_IAD+=1
  end
  if((dataset[i,4]=="EWR") & (y_status[i]=="delayed"))
    size_BWI+=1
  end
end


labels = ("JFK", "LGA", "EWR")
sizes = [size_DCA, size_IAD, size_BWI]
explode = (0, 0, 0)  # only "explode" the 2nd slice (i.e. "Hogs")

fig1, ax1 = plt.subplots()
ax1.pie(sizes, explode=explode, labels=labels, autopct="%1.1f%%",
        shadow=true, startangle=90)
ax1.axis("equal")  # Equal aspect ratio ensures that pie is drawn as a circle.

plt.show()

# making numerical X dataset

x_week_mon=[]
x_week_tue=[]
x_week_wed=[]
x_week_thu=[]
x_week_fri=[]
x_week_sat=[]
x_week_sun=[]

x_dep_time=[]
x_weather=[]

x_origin_DCA=[]
x_origin_IAD=[]
x_origin_BWI=[]# one hot encoding

x_destination_JFK=[]
x_destination_LGA=[]
x_destination_EWR=[] # one hot encoding

x_carrier_OH=[]
x_carrier_CO=[]
x_carrier_DH=[]
x_carrier_DL=[]
x_carrier_MQ=[]
x_carrier_US=[]
x_carrier_RU=[]
x_carrier_UA=[] # one hot encoding



for i in 1:2201
  append!(x_dep_time,(dataset[i,4])/2230)
  append!(x_weather,dataset[i,10])

  if(dataset[i,9]=="DCA")
    append!(x_origin_DCA,1)
    append!(x_origin_BWI,0)
    append!(x_origin_IAD,0)
  elseif(dataset[i,9]=="IAD")
    append!(x_origin_DCA,0)
    append!(x_origin_BWI,0)
    append!(x_origin_IAD,1)
  else
    append!(x_origin_DCA,0)
    append!(x_origin_BWI,1)
    append!(x_origin_IAD,0)
  end

  if(dataset[i,11]==1)
    append!(x_week_mon,1)
    append!(x_week_tue,0)
    append!(x_week_wed,0)
    append!(x_week_thu,0)
    append!(x_week_fri,0)
    append!(x_week_sat,0)
    append!(x_week_sun,0)
  elseif(dataset[i,11]==2)
    append!(x_week_mon,0)
    append!(x_week_tue,1)
    append!(x_week_wed,0)
    append!(x_week_thu,0)
    append!(x_week_fri,0)
    append!(x_week_sat,0)
    append!(x_week_sun,0)
  elseif(dataset[i,11]==3)
    append!(x_week_mon,0)
    append!(x_week_tue,0)
    append!(x_week_wed,1)
    append!(x_week_thu,0)
    append!(x_week_fri,0)
    append!(x_week_sat,0)
    append!(x_week_sun,0)
  elseif(dataset[i,11]==4)
    append!(x_week_mon,0)
    append!(x_week_tue,0)
    append!(x_week_wed,0)
    append!(x_week_thu,1)
    append!(x_week_fri,0)
    append!(x_week_sat,0)
    append!(x_week_sun,0)
  elseif(dataset[i,11]==5)
    append!(x_week_mon,0)
    append!(x_week_tue,0)
    append!(x_week_wed,0)
    append!(x_week_thu,0)
    append!(x_week_fri,1)
    append!(x_week_sat,0)
    append!(x_week_sun,0)
  elseif(dataset[i,11]==6)
    append!(x_week_mon,0)
    append!(x_week_tue,0)
    append!(x_week_wed,0)
    append!(x_week_thu,0)
    append!(x_week_fri,0)
    append!(x_week_sat,1)
    append!(x_week_sun,0)
  elseif(dataset[i,11]==7)
    append!(x_week_mon,0)
    append!(x_week_tue,0)
    append!(x_week_wed,0)
    append!(x_week_thu,0)
    append!(x_week_fri,0)
    append!(x_week_sat,0)
    append!(x_week_sun,1)
  end


  if(dataset[i,5]=="JFK")
    append!(x_destination_JFK,1)
    append!(x_destination_LGA,0)
    append!(x_destination_EWR,0)
  elseif(dataset[i,5]=="LGA")
    append!(x_destination_JFK,0)
    append!(x_destination_LGA,1)
    append!(x_destination_EWR,0)
  else
    append!(x_destination_JFK,0)
    append!(x_destination_LGA,0)
    append!(x_destination_EWR,1)
  end


  if(dataset[i,3]=="CO")
    append!(x_carrier_CO,1)
    append!(x_carrier_DH,0)
    append!(x_carrier_DL,0)
    append!(x_carrier_MQ,0)
    append!(x_carrier_OH,0)
    append!(x_carrier_RU,0)
    append!(x_carrier_UA,0)
    append!(x_carrier_US,0)
  elseif(dataset[i,3]=="DH")
    append!(x_carrier_CO,0)
    append!(x_carrier_DH,1)
    append!(x_carrier_DL,0)
    append!(x_carrier_MQ,0)
    append!(x_carrier_OH,0)
    append!(x_carrier_RU,0)
    append!(x_carrier_UA,0)
    append!(x_carrier_US,0)

  elseif(dataset[i,3]=="DL")
    append!(x_carrier_CO,0)
    append!(x_carrier_DH,0)
    append!(x_carrier_DL,1)
    append!(x_carrier_MQ,0)
    append!(x_carrier_OH,0)
    append!(x_carrier_RU,0)
    append!(x_carrier_UA,0)
    append!(x_carrier_US,0)
  elseif(dataset[i,3]=="MQ")
    append!(x_carrier_CO,0)
    append!(x_carrier_DH,0)
    append!(x_carrier_DL,0)
    append!(x_carrier_MQ,1)
    append!(x_carrier_OH,0)
    append!(x_carrier_RU,0)
    append!(x_carrier_UA,0)
    append!(x_carrier_US,0)
  elseif(dataset[i,3]=="OH")
    append!(x_carrier_CO,0)
    append!(x_carrier_DH,0)
    append!(x_carrier_DL,0)
    append!(x_carrier_MQ,0)
    append!(x_carrier_OH,1)
    append!(x_carrier_RU,0)
    append!(x_carrier_UA,0)
    append!(x_carrier_US,0)
  elseif(dataset[i,3]=="RU")
    append!(x_carrier_CO,0)
    append!(x_carrier_DH,0)
    append!(x_carrier_DL,0)
    append!(x_carrier_MQ,0)
    append!(x_carrier_OH,0)
    append!(x_carrier_RU,1)
    append!(x_carrier_UA,0)
    append!(x_carrier_US,0)
  elseif(dataset[i,3]=="UA")
    append!(x_carrier_CO,0)
    append!(x_carrier_DH,0)
    append!(x_carrier_DL,0)
    append!(x_carrier_MQ,0)
    append!(x_carrier_OH,0)
    append!(x_carrier_RU,0)
    append!(x_carrier_UA,1)
    append!(x_carrier_US,0)
  elseif(dataset[i,3]=="US")
    append!(x_carrier_CO,0)
    append!(x_carrier_DH,0)
    append!(x_carrier_DL,0)
    append!(x_carrier_MQ,0)
    append!(x_carrier_OH,0)
    append!(x_carrier_RU,0)
    append!(x_carrier_UA,0)
    append!(x_carrier_US,1)
  end
end

x0=ones(2201,1)

x_test = cat(x0[1321:2201],x_week_mon[1321:2201] ,x_week_tue[1321:2201], x_week_wed[1321:2201],
 x_week_thu[1321:2201], x_week_fri[1321:2201], x_week_sat[1321:2201], x_week_sun[1321:2201], x_dep_time[1321:2201],
 x_origin_DCA[1321:2201],x_origin_BWI[1321:2201], x_origin_IAD[1321:2201],
 x_destination_JFK[1321:2201], x_destination_LGA[1321:2201], x_destination_EWR[1321:2201],
 x_carrier_CO[1321:2201], x_carrier_DH[1321:2201], x_carrier_DL[1321:2201], x_carrier_MQ[1321:2201],
 x_carrier_OH[1321:2201], x_carrier_RU[1321:2201], x_carrier_UA[1321:2201], x_carrier_US[1321:2201],
 x_weather[1321:2201],  dims = 2);

x_train = cat(x0[1:1320],x_week_mon[1:1320], x_week_tue[1:1320],x_week_wed[1:1320],
 x_week_thu[1:1320],x_week_fri[1:1320], x_week_sat[1:1320], x_week_sun[1:1320], x_dep_time[1:1320],
 x_origin_DCA[1:1320],x_origin_BWI[1:1320], x_origin_IAD[1:1320],
 x_destination_JFK[1:1320], x_destination_LGA[1:1320], x_destination_EWR[1:1320],
 x_carrier_CO[1:1320], x_carrier_DH[1:1320], x_carrier_DL[1:1320], x_carrier_MQ[1:1320],
 x_carrier_OH[1:1320], x_carrier_RU[1:1320], x_carrier_UA[1:1320], x_carrier_US[1:1320],
 x_weather[1:1320],  dims = 2);




# making numerical X dataset after feature selection

x0=ones(2201,1)

x_test_new = cat(x0[1321:2201] ,
 x_week_fri[1321:2201],x_dep_time[1321:2201],
 x_destination_JFK[1321:2201],
 x_carrier_DL[1321:2201], x_carrier_MQ[1321:2201],
 x_carrier_US[1321:2201],
 x_weather[1321:2201],  dims = 2);

x_train_new = cat(x0[1:1320],
 x_week_fri[1:1320],x_dep_time[1:1320],
 x_destination_JFK[1:1320],
 x_carrier_DL[1:1320], x_carrier_MQ[1:1320],
 x_carrier_US[1:1320],
 x_weather[1:1320],  dims = 2);


weight, CostHistory  = gradientDescent(x_train_new, y_train, zeros(8,1) 
,0.1, 10000);

accuracy(x_test_new, y_test, weight)

weight



#old acc

#weight_old, CostHistory_old  = gradientDescent(x_train, y_train, zeros(24,1) 
#,0.5, 1500);

accuracy(x_test, y_test, weight_old)


# making numerical Y dataset
y_status=dataset[:,14]
y_train=[]
y_test=[]


for i in 1:1320
if y_status[i]=="ontime"
append!(y_train,1.0)
else
append!(y_train,0.0)
end
end

for j in 1321:2201
  if y_status[j]=="ontime"
  append!(y_test,1.0)
  else
  append!(y_test,0.0)
  end
end
  


#to check no. of delayed flights
num_del=0
for i in length(y_train)
if(y_train=="delayed")
num_del+=1
end
end

num_pos


#making logistic regression model for classification

function gradientDescent(x_train, y_train, weight, learningRate, numIterations)
    costHistory = zeros(numIterations)

    m = length(y_train)
  
    for iteration in 1:numIterations
        
        z = x_train*weight
        f=sigmoid_array(z)
        
        gradient = x_train'*(f-y_train)/m
        
        weight = weight - (learningRate*gradient)
      
        #Calculate cost of the new model found by descending a step above

        cost = cost_func(y_train, x_train, weight)
        costHistory[iteration] = cost
  
    end
    return weight, costHistory
end

using DataFrames
df = DataFrame(Predicted = pred[:],actual = y_test[:])
CSV.write("pred.csv",df)

#to check no. of successfull results

pred=x_test*weight_old
pred=sigmoid_array(pred)
predicted=[]
for i in 1:length(y_test)
if(pred[i] > .6)
append!(predicted,1)
else
append!(predicted,0)
end
end

num_success=0
for i in 1:length(y_test)
if(y_test[i]==1) & (y_test[i]==predicted[i])
num_success=num_success + 1
end
end
num_success

# utilities

# normalizing dataset
function norm(Y)
  m = length(Y);
  mean = sum(Y)/m;
  mean_vec = mean*ones(m,1)
  var = sum(((Y.^2)/m) - ((mean_vec.^2)/m));
  x = (Y-mean_vec)/sqrt(var);
  return x
end

# sigmoid function
function sigmoid(z)
  temp = 1/(1+exp(-z))
  return temp
end

function sigmoid_array(Z)
  temp = []
  for i in 1:length(Z)
  append!(temp,sigmoid(Z[i]))
  end
  return temp
end

# logarithmic function
function log_array(Z)
temp=[]
for i in 1:length(Z)
append!(temp,log(Z[i]))
end
return temp
end

# cost function
function cost_func(y, x, w)
  z = x*w
  f=sigmoid_array(z)
  sumZ = sum((y.*log_array(f)) + 
      ((ones(length(y),1)-y).*log_array(ones(length(y),1)-f)))

  return -sumZ/length(y)
end

#predicting model
function accuracy(x, y, w)
pred=x*w
pred=sigmoid_array(pred)
predicted=[]
for i in 1:length(y)
if(pred[i] > .5)
append!(predicted,1)
else
append!(predicted,0)
end
end

num_success=0
for j in 1:length(y)
if(y[j]==predicted[j])
num_success=num_success + 1
end
end
return (num_success/length(y))*(100)
end

#plotting while validation 
plot(CostHistory,title="Cost vs iterations",label="cost",lw=2)
xlabel!("iterations");
ylabel!("cost");
png("cost");
